{
 "cells": [
  {
   "cell_type": "code",
   "execution_count": 1,
   "metadata": {},
   "outputs": [],
   "source": [
    "import pandas as pd\n",
    "import json\n",
    "from sklearn.model_selection import train_test_split\n",
    "from sklearn.metrics import roc_auc_score\n",
    "from pathlib import Path\n",
    "import scipy.sparse as sparse\n",
    "from lightfm import LightFM\n",
    "from lightfm.cross_validation import random_train_test_split\n",
    "from lightfm.evaluation import precision_at_k, recall_at_k\n",
    "from lightfm.data import Dataset"
   ]
  },
  {
   "cell_type": "code",
   "execution_count": 2,
   "metadata": {
    "tags": []
   },
   "outputs": [
    {
     "output_type": "stream",
     "name": "stderr",
     "text": "/home/alex/anaconda3/lib/python3.8/site-packages/IPython/core/interactiveshell.py:3071: DtypeWarning: Columns (8) have mixed types.Specify dtype option on import or set low_memory=False.\n  has_raised = await self.run_ast_nodes(code_ast.body, cell_name,\n/home/alex/anaconda3/lib/python3.8/site-packages/IPython/core/interactiveshell.py:3071: DtypeWarning: Columns (5) have mixed types.Specify dtype option on import or set low_memory=False.\n  has_raised = await self.run_ast_nodes(code_ast.body, cell_name,\n"
    }
   ],
   "source": [
    "df_sub = pd.read_csv(Path.cwd() / 'data' / 'sample_submission.csv')\n",
    "df_train = pd.read_csv(Path.cwd() / 'data' / 'train.csv')\n",
    "df_test = pd.read_csv(Path.cwd() / 'data' / 'test.csv')"
   ]
  },
  {
   "cell_type": "code",
   "execution_count": 3,
   "metadata": {},
   "outputs": [],
   "source": [
    "df_train.drop_duplicates(inplace=True)"
   ]
  },
  {
   "cell_type": "code",
   "execution_count": 4,
   "metadata": {},
   "outputs": [
    {
     "output_type": "execute_result",
     "data": {
      "text/plain": "0.0    46\n1.0    43\nName: rating, dtype: int64"
     },
     "metadata": {},
     "execution_count": 4
    }
   ],
   "source": [
    "df_train[(df_train.userid == 538)].rating.value_counts()"
   ]
  },
  {
   "cell_type": "code",
   "execution_count": 57,
   "metadata": {},
   "outputs": [
    {
     "data": {
      "text/plain": [
       "127495"
      ]
     },
     "execution_count": 57,
     "metadata": {},
     "output_type": "execute_result"
    }
   ],
   "source": [
    "df_test.userid.max()"
   ]
  },
  {
   "cell_type": "code",
   "execution_count": 3,
   "metadata": {},
   "outputs": [],
   "source": [
    "df_train_train, df_train_test = train_test_split(df_train, random_state=32, shuffle=True)"
   ]
  },
  {
   "cell_type": "code",
   "execution_count": 4,
   "metadata": {},
   "outputs": [],
   "source": [
    "ratings_coo = sparse.coo_matrix((df_train['rating'].astype(int),\n",
    "                                 (df_train['userid'],\n",
    "                                  df_train['itemid'])))"
   ]
  },
  {
   "cell_type": "code",
   "execution_count": 5,
   "metadata": {},
   "outputs": [],
   "source": [
    "ratings_coo_train = sparse.coo_matrix((df_train_train['rating'].astype(int),\n",
    "                                 (df_train_train['userid'],\n",
    "                                  df_train_train['itemid'])))"
   ]
  },
  {
   "cell_type": "code",
   "execution_count": 6,
   "metadata": {},
   "outputs": [
    {
     "output_type": "execute_result",
     "data": {
      "text/plain": "array([102179,   3625,  39495, ...,     88,  41540,    466], dtype=int32)"
     },
     "metadata": {},
     "execution_count": 6
    }
   ],
   "source": [
    "ratings_coo.row"
   ]
  },
  {
   "cell_type": "code",
   "execution_count": 28,
   "metadata": {},
   "outputs": [
    {
     "data": {
      "text/plain": [
       "1.0    703165\n",
       "0.0    125770\n",
       "Name: rating, dtype: int64"
      ]
     },
     "execution_count": 28,
     "metadata": {},
     "output_type": "execute_result"
    }
   ],
   "source": [
    "df_train.rating.value_counts()"
   ]
  },
  {
   "cell_type": "code",
   "execution_count": 18,
   "metadata": {},
   "outputs": [
    {
     "data": {
      "text/plain": [
       "828935"
      ]
     },
     "execution_count": 18,
     "metadata": {},
     "output_type": "execute_result"
    }
   ],
   "source": [
    "len(df_train['overall'].astype(int))"
   ]
  },
  {
   "cell_type": "code",
   "execution_count": 8,
   "metadata": {},
   "outputs": [
    {
     "output_type": "execute_result",
     "data": {
      "text/plain": "828935"
     },
     "metadata": {},
     "execution_count": 8
    }
   ],
   "source": [
    "len(df_train)"
   ]
  },
  {
   "cell_type": "code",
   "execution_count": 9,
   "metadata": {},
   "outputs": [],
   "source": [
    "#Ошибку не дает, но пока непонятно как правильно сформировать и подцепить в модель\n",
    "#Просто метод формирования матрицы признаков на будущее.\n",
    "user_feature_coo = sparse.coo_matrix((df_train['overall'].astype(int),\n",
    "                                     (df_train['userid'],\n",
    "                                     [0]*len(df_train))))"
   ]
  },
  {
   "cell_type": "code",
   "execution_count": 61,
   "metadata": {},
   "outputs": [],
   "source": [
    "#Тест тест с датасет\n",
    "dataset = Dataset()\n",
    "\n",
    "dataset.fit(\n",
    "            users=range(df_train.userid.max()+1),\n",
    "            items=range(df_train.itemid.max()+1) #,\n",
    "          #  user_features=['overall:1', 'overall:2', 'overall:3', 'overall:4', 'overall:5'],\n",
    "          #  item_features=[]\n",
    ")\n",
    "\n",
    "(interactions, weights) = dataset.build_interactions(\n",
    "    [(x[11], x[12], x[13]) for x in df_train.values])"
   ]
  },
  {
   "cell_type": "code",
   "execution_count": 12,
   "metadata": {},
   "outputs": [
    {
     "data": {
      "text/plain": [
       "(127496, 1)"
      ]
     },
     "execution_count": 12,
     "metadata": {},
     "output_type": "execute_result"
    }
   ],
   "source": [
    "user_feature_coo.shape"
   ]
  },
  {
   "cell_type": "code",
   "execution_count": 63,
   "metadata": {},
   "outputs": [
    {
     "data": {
      "text/plain": [
       "(127496, 41320)"
      ]
     },
     "execution_count": 63,
     "metadata": {},
     "output_type": "execute_result"
    }
   ],
   "source": [
    "ratings_coo.shape"
   ]
  },
  {
   "cell_type": "code",
   "execution_count": 202,
   "metadata": {},
   "outputs": [],
   "source": [
    "NUM_THREADS = 8 #число потоков\n",
    "NUM_COMPONENTS = 180 #число параметров вектора \n",
    "NUM_EPOCHS = 14 #число эпох обучения\n",
    "LEARNING_RATE = 0.13\n",
    "RANDOM_STATE = 42\n",
    "\n",
    "model = LightFM(learning_rate=LEARNING_RATE, loss='logistic', learning_schedule='adagrad',\n",
    "                no_components=NUM_COMPONENTS, random_state=RANDOM_STATE)\n",
    "model = model.fit(ratings_coo_train,\n",
    "                  epochs=NUM_EPOCHS, \n",
    "                  num_threads=NUM_THREADS)"
   ]
  },
  {
   "cell_type": "code",
   "execution_count": 203,
   "metadata": {},
   "outputs": [],
   "source": [
    "preds = model.predict(df_train_test.userid.values,\n",
    "                      df_train_test.itemid.values,\n",
    "                     )"
   ]
  },
  {
   "cell_type": "code",
   "execution_count": 204,
   "metadata": {},
   "outputs": [
    {
     "output_type": "execute_result",
     "data": {
      "text/plain": "0.7537410211657183"
     },
     "metadata": {},
     "execution_count": 204
    }
   ],
   "source": [
    "roc_auc_score(df_train_test.rating, preds)"
   ]
  },
  {
   "cell_type": "code",
   "execution_count": 205,
   "metadata": {},
   "outputs": [],
   "source": [
    "model_sub = LightFM(learning_rate=LEARNING_RATE, loss='logistic', learning_schedule='adagrad',\n",
    "                no_components=NUM_COMPONENTS, random_state=RANDOM_STATE)\n",
    "model_sub = model_sub.fit(ratings_coo,\n",
    "                  epochs=NUM_EPOCHS, \n",
    "                  num_threads=NUM_THREADS)\n",
    "preds_sub = model_sub.predict(df_test.userid.values,\n",
    "                      df_test.itemid.values)"
   ]
  },
  {
   "cell_type": "code",
   "execution_count": 206,
   "metadata": {},
   "outputs": [
    {
     "output_type": "execute_result",
     "data": {
      "text/plain": "0.9973893865020431"
     },
     "metadata": {},
     "execution_count": 206
    }
   ],
   "source": [
    "# тест:  ROC-AUC должен быть близок к 1\n",
    "roc_auc_score(df_train_test.rating, \n",
    "                model_sub.predict(df_train_test.userid.values, df_train_test.itemid.values))"
   ]
  },
  {
   "cell_type": "code",
   "execution_count": 207,
   "metadata": {},
   "outputs": [
    {
     "output_type": "execute_result",
     "data": {
      "text/plain": "(-33.010276794433594, 31.718379974365234)"
     },
     "metadata": {},
     "execution_count": 207
    }
   ],
   "source": [
    "preds_sub.min(), preds_sub.max()"
   ]
  },
  {
   "cell_type": "code",
   "execution_count": 208,
   "metadata": {},
   "outputs": [],
   "source": [
    "normalized_preds_sub = (preds_sub - preds_sub.min())/(preds_sub - preds_sub.min()).max()"
   ]
  },
  {
   "cell_type": "code",
   "execution_count": 209,
   "metadata": {},
   "outputs": [
    {
     "output_type": "execute_result",
     "data": {
      "text/plain": "(0.0, 1.0)"
     },
     "metadata": {},
     "execution_count": 209
    }
   ],
   "source": [
    "normalized_preds_sub.min(), normalized_preds_sub.max()"
   ]
  },
  {
   "cell_type": "code",
   "execution_count": 210,
   "metadata": {},
   "outputs": [
    {
     "output_type": "execute_result",
     "data": {
      "text/plain": "'\\nEnd of PART ONE\\n'"
     },
     "metadata": {},
     "execution_count": 210
    }
   ],
   "source": [
    "df_sub['rating']= normalized_preds_sub\n",
    "df_sub.to_csv('submission_base_log_14.csv', index=False)\n",
    "\n",
    "'''\n",
    "End of PART ONE\n",
    "'''"
   ]
  },
  {
   "cell_type": "code",
   "execution_count": 200,
   "metadata": {},
   "outputs": [],
   "source": [
    "'''\n",
    "PART TWO\n",
    "'''\n",
    "\n",
    "NUM_THREADS_2 = 8 #число потоков\n",
    "NUM_COMPONENTS_2 = 180 #число параметров вектора \n",
    "NUM_EPOCHS_2 = 14 #число эпох обучения\n",
    "RANDOM_STATE_2 = 42\n",
    "LEARNING_RATE_2 = 0.13\n",
    "\n",
    "model2 = LightFM(learning_rate=LEARNING_RATE_2, loss='logistic', learning_schedule='adagrad',\n",
    "                no_components=NUM_COMPONENTS_2, random_state=RANDOM_STATE_2)\n",
    "model2 = model2.fit(ratings_coo_train,\n",
    "                  epochs=NUM_EPOCHS_2, \n",
    "                  num_threads=NUM_THREADS_2)"
   ]
  },
  {
   "cell_type": "code",
   "execution_count": 201,
   "metadata": {},
   "outputs": [
    {
     "output_type": "execute_result",
     "data": {
      "text/plain": "0.7537207352141249"
     },
     "metadata": {},
     "execution_count": 201
    }
   ],
   "source": [
    "preds_2 = model2.predict(df_train_test.userid.values, df_train_test.itemid.values)\n",
    "roc_auc_score(df_train_test.rating, preds_2)"
   ]
  },
  {
   "cell_type": "code",
   "execution_count": null,
   "metadata": {},
   "outputs": [],
   "source": []
  },
  {
   "cell_type": "code",
   "execution_count": 11,
   "metadata": {},
   "outputs": [],
   "source": [
    "model_sub2 = LightFM(learning_rate=LEARNING_RATE, loss='logistic', learning_schedule='adagrad',\n",
    "                no_components=NUM_COMPONENTS, random_state=RANDOM_STATE)\n",
    "model_sub2 = model2.fit(ratings_coo,\n",
    "                  epochs=NUM_EPOCHS, \n",
    "                  num_threads=NUM_THREADS)\n",
    "preds_sub2 = model_sub2.predict(df_test.userid.values,\n",
    "                      df_test.itemid.values)"
   ]
  },
  {
   "cell_type": "code",
   "execution_count": 12,
   "metadata": {},
   "outputs": [
    {
     "output_type": "execute_result",
     "data": {
      "text/plain": "0.9912157543145635"
     },
     "metadata": {},
     "execution_count": 12
    }
   ],
   "source": [
    "roc_auc_score(df_train_test.rating, preds)"
   ]
  },
  {
   "cell_type": "code",
   "execution_count": 20,
   "metadata": {},
   "outputs": [
    {
     "output_type": "execute_result",
     "data": {
      "text/plain": "(-33.86893844604492, 31.111011505126953)"
     },
     "metadata": {},
     "execution_count": 20
    }
   ],
   "source": [
    "preds_sub.min(), preds_sub.max()"
   ]
  },
  {
   "cell_type": "code",
   "execution_count": 21,
   "metadata": {},
   "outputs": [],
   "source": [
    "normalized_preds = (preds_sub - preds_sub.min())/(preds_sub - preds_sub.min()).max()"
   ]
  },
  {
   "cell_type": "code",
   "execution_count": 22,
   "metadata": {},
   "outputs": [
    {
     "output_type": "execute_result",
     "data": {
      "text/plain": "(0.0, 1.0)"
     },
     "metadata": {},
     "execution_count": 22
    }
   ],
   "source": [
    "normalized_preds.min(), normalized_preds.max()"
   ]
  },
  {
   "cell_type": "code",
   "execution_count": 23,
   "metadata": {},
   "outputs": [],
   "source": [
    "df_sub['rating']= normalized_preds"
   ]
  },
  {
   "cell_type": "code",
   "execution_count": 24,
   "metadata": {},
   "outputs": [],
   "source": [
    "df_sub.to_csv('submission_base_log_4.csv', index=False)"
   ]
  }
 ],
 "metadata": {
  "kernelspec": {
   "display_name": "Python 3",
   "language": "python",
   "name": "python3"
  },
  "language_info": {
   "codemirror_mode": {
    "name": "ipython",
    "version": 3
   },
   "file_extension": ".py",
   "mimetype": "text/x-python",
   "name": "python",
   "nbconvert_exporter": "python",
   "pygments_lexer": "ipython3",
   "version": "3.8.3-final"
  }
 },
 "nbformat": 4,
 "nbformat_minor": 4
}