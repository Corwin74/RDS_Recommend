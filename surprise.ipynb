{
 "metadata": {
  "language_info": {
   "codemirror_mode": {
    "name": "ipython",
    "version": 3
   },
   "file_extension": ".py",
   "mimetype": "text/x-python",
   "name": "python",
   "nbconvert_exporter": "python",
   "pygments_lexer": "ipython3",
   "version": "3.8.3-final"
  },
  "orig_nbformat": 2,
  "kernelspec": {
   "name": "python3",
   "display_name": "Python 3"
  }
 },
 "nbformat": 4,
 "nbformat_minor": 2,
 "cells": [
  {
   "cell_type": "code",
   "execution_count": 1,
   "metadata": {},
   "outputs": [],
   "source": [
    "import pandas as pd\n",
    "import json\n",
    "from sklearn.model_selection import train_test_split\n",
    "from sklearn.metrics import roc_auc_score\n",
    "from pathlib import Path\n",
    "import scipy.sparse as sparse\n",
    "import numpy as np\n",
    "import random"
   ]
  },
  {
   "cell_type": "code",
   "execution_count": 2,
   "metadata": {},
   "outputs": [],
   "source": [
    "from surprise import BaselineOnly\n",
    "from surprise import Dataset\n",
    "from surprise import Reader\n",
    "from surprise.model_selection import cross_validate\n",
    "from surprise import SVD\n",
    "from surprise import SVDpp\n",
    "MY_SEED = 42\n",
    "random.seed(MY_SEED)\n",
    "np.random.seed(MY_SEED)"
   ]
  },
  {
   "cell_type": "code",
   "execution_count": 3,
   "metadata": {
    "tags": []
   },
   "outputs": [
    {
     "output_type": "stream",
     "name": "stderr",
     "text": "/home/alex/anaconda3/lib/python3.8/site-packages/IPython/core/interactiveshell.py:3071: DtypeWarning: Columns (8) have mixed types.Specify dtype option on import or set low_memory=False.\n  has_raised = await self.run_ast_nodes(code_ast.body, cell_name,\n/home/alex/anaconda3/lib/python3.8/site-packages/IPython/core/interactiveshell.py:3071: DtypeWarning: Columns (5) have mixed types.Specify dtype option on import or set low_memory=False.\n  has_raised = await self.run_ast_nodes(code_ast.body, cell_name,\n"
    }
   ],
   "source": [
    "df_sub = pd.read_csv(Path.cwd() / 'data' / 'sample_submission.csv')\n",
    "df_train = pd.read_csv(Path.cwd() / 'data' / 'train.csv')\n",
    "df_test = pd.read_csv(Path.cwd() / 'data' / 'test.csv')"
   ]
  },
  {
   "cell_type": "code",
   "execution_count": 4,
   "metadata": {},
   "outputs": [],
   "source": [
    "df_train.drop_duplicates(inplace=True)"
   ]
  },
  {
   "cell_type": "code",
   "execution_count": 5,
   "metadata": {},
   "outputs": [],
   "source": [
    "# A reader is still needed but only the rating_scale param is requiered.\n",
    "reader = Reader(rating_scale=(0,1))\n",
    "data = Dataset.load_from_df(df_train[['userid', 'itemid', 'rating']], reader)"
   ]
  },
  {
   "cell_type": "code",
   "execution_count": 6,
   "metadata": {},
   "outputs": [],
   "source": [
    "trainset = data.build_full_trainset()"
   ]
  },
  {
   "cell_type": "code",
   "execution_count": 9,
   "metadata": {},
   "outputs": [],
   "source": [
    "algo = SVD()"
   ]
  },
  {
   "cell_type": "code",
   "execution_count": 8,
   "metadata": {
    "tags": []
   },
   "outputs": [
    {
     "output_type": "stream",
     "name": "stdout",
     "text": "Evaluating RMSE, MAE of algorithm SVDpp on 5 split(s).\n\n                  Fold 1  Fold 2  Fold 3  Fold 4  Fold 5  Mean    Std     \nRMSE (testset)    0.3426  0.3416  0.3415  0.3401  0.3417  0.3415  0.0008  \nMAE (testset)     0.2303  0.2293  0.2291  0.2284  0.2290  0.2292  0.0006  \nFit time          116.55  118.67  120.99  114.75  118.94  117.98  2.14    \nTest time         4.79    4.75    4.59    4.68    5.21    4.81    0.21    \n"
    },
    {
     "output_type": "execute_result",
     "data": {
      "text/plain": "{'test_rmse': array([0.34257206, 0.34159957, 0.34150402, 0.34005636, 0.34165962]),\n 'test_mae': array([0.23026325, 0.22931839, 0.22907276, 0.22838353, 0.22904739]),\n 'fit_time': (116.54742646217346,\n  118.6669671535492,\n  120.98648238182068,\n  114.75357866287231,\n  118.93942594528198),\n 'test_time': (4.794326066970825,\n  4.749876976013184,\n  4.592046737670898,\n  4.684158563613892,\n  5.20811653137207)}"
     },
     "metadata": {},
     "execution_count": 8
    }
   ],
   "source": [
    "cross_validate(algo, data, measures=['RMSE', 'MAE'], cv=5, verbose=True)"
   ]
  },
  {
   "cell_type": "code",
   "execution_count": 10,
   "metadata": {
    "tags": []
   },
   "outputs": [
    {
     "output_type": "stream",
     "name": "stdout",
     "text": "Evaluating RMSE, MAE of algorithm SVD on 5 split(s).\n\n                  Fold 1  Fold 2  Fold 3  Fold 4  Fold 5  Mean    Std     \nRMSE (testset)    0.3484  0.3476  0.3479  0.3488  0.3478  0.3481  0.0004  \nMAE (testset)     0.2362  0.2358  0.2364  0.2363  0.2360  0.2361  0.0002  \nFit time          33.66   33.74   33.97   33.90   33.81   33.82   0.11    \nTest time         1.82    1.69    2.21    1.74    1.71    1.83    0.19    \n"
    },
    {
     "output_type": "execute_result",
     "data": {
      "text/plain": "{'test_rmse': array([0.3484415 , 0.34763533, 0.34787727, 0.34882031, 0.34782557]),\n 'test_mae': array([0.23620133, 0.23584893, 0.23640312, 0.23625295, 0.23603404]),\n 'fit_time': (33.66257882118225,\n  33.74075627326965,\n  33.969441175460815,\n  33.902092933654785,\n  33.805949449539185),\n 'test_time': (1.8189184665679932,\n  1.6899518966674805,\n  2.211038589477539,\n  1.736081600189209,\n  1.7058475017547607)}"
     },
     "metadata": {},
     "execution_count": 10
    }
   ],
   "source": [
    "cross_validate(algo, data, measures=['RMSE', 'MAE'], cv=5, verbose=True)"
   ]
  },
  {
   "cell_type": "code",
   "execution_count": 20,
   "metadata": {},
   "outputs": [],
   "source": [
    "from surprise import CoClustering\n",
    "algo = CoClustering()"
   ]
  },
  {
   "cell_type": "code",
   "execution_count": 21,
   "metadata": {
    "tags": []
   },
   "outputs": [
    {
     "output_type": "stream",
     "name": "stdout",
     "text": "Evaluating RMSE, MAE of algorithm CoClustering on 5 split(s).\n\n                  Fold 1  Fold 2  Fold 3  Fold 4  Fold 5  Mean    Std     \nRMSE (testset)    0.3729  0.3801  0.3836  0.3830  0.3718  0.3783  0.0050  \nMAE (testset)     0.2249  0.2210  0.2211  0.2291  0.2247  0.2241  0.0030  \nFit time          29.77   29.28   29.84   29.67   30.22   29.76   0.30    \nTest time         1.64    1.57    1.57    1.58    1.58    1.59    0.03    \n"
    },
    {
     "output_type": "execute_result",
     "data": {
      "text/plain": "{'test_rmse': array([0.37293395, 0.38009022, 0.38355408, 0.38301337, 0.37180911]),\n 'test_mae': array([0.22487822, 0.22095595, 0.22109129, 0.22913082, 0.22469053]),\n 'fit_time': (29.76620388031006,\n  29.280840396881104,\n  29.83963966369629,\n  29.672457456588745,\n  30.222164630889893),\n 'test_time': (1.6401867866516113,\n  1.573112964630127,\n  1.5734689235687256,\n  1.5823619365692139,\n  1.5759215354919434)}"
     },
     "metadata": {},
     "execution_count": 21
    }
   ],
   "source": [
    "cross_validate(algo, data, measures=['RMSE', 'MAE'], cv=5, verbose=True)"
   ]
  },
  {
   "cell_type": "code",
   "execution_count": 22,
   "metadata": {
    "tags": []
   },
   "outputs": [
    {
     "output_type": "execute_result",
     "data": {
      "text/plain": "<surprise.prediction_algorithms.co_clustering.CoClustering at 0x7f084eb63a30>"
     },
     "metadata": {},
     "execution_count": 22
    }
   ],
   "source": [
    "algo.fit(trainset)"
   ]
  },
  {
   "cell_type": "code",
   "execution_count": 23,
   "metadata": {},
   "outputs": [],
   "source": [
    "df_sub['rating'] = df_test.apply(lambda x: algo.predict(x.userid, x.itemid)[3], axis=1)"
   ]
  },
  {
   "cell_type": "code",
   "execution_count": 24,
   "metadata": {
    "tags": []
   },
   "outputs": [],
   "source": [
    "df_sub.to_csv('submission_surprise_log.csv', index=False)"
   ]
  },
  {
   "cell_type": "code",
   "execution_count": null,
   "metadata": {},
   "outputs": [],
   "source": []
  }
 ]
}