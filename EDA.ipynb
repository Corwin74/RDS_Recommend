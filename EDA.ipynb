{
 "cells": [
  {
   "cell_type": "code",
   "execution_count": 1,
   "metadata": {},
   "outputs": [],
   "source": [
    "import pandas as pd\n",
    "import json\n",
    "from pathlib import Path"
   ]
  },
  {
   "cell_type": "code",
   "execution_count": 3,
   "metadata": {},
   "outputs": [
    {
     "name": "stderr",
     "output_type": "stream",
     "text": [
      "C:\\Users\\Alex\\anaconda3\\lib\\site-packages\\IPython\\core\\interactiveshell.py:3146: DtypeWarning: Columns (8) have mixed types.Specify dtype option on import or set low_memory=False.\n",
      "  interactivity=interactivity, compiler=compiler, result=result)\n"
     ]
    }
   ],
   "source": [
    "df_train = pd.read_csv(Path.cwd() / 'data' / 'train.csv')"
   ]
  },
  {
   "cell_type": "code",
   "execution_count": 6,
   "metadata": {},
   "outputs": [
    {
     "name": "stdout",
     "output_type": "stream",
     "text": [
      "<class 'pandas.core.frame.DataFrame'>\n",
      "RangeIndex: 857895 entries, 0 to 857894\n",
      "Data columns (total 14 columns):\n",
      " #   Column          Non-Null Count   Dtype  \n",
      "---  ------          --------------   -----  \n",
      " 0   overall         857895 non-null  float64\n",
      " 1   verified        857895 non-null  bool   \n",
      " 2   reviewTime      857895 non-null  object \n",
      " 3   asin            857895 non-null  object \n",
      " 4   reviewerName    857719 non-null  object \n",
      " 5   reviewText      857616 non-null  object \n",
      " 6   summary         857725 non-null  object \n",
      " 7   unixReviewTime  857895 non-null  int64  \n",
      " 8   vote            118740 non-null  object \n",
      " 9   style           444406 non-null  object \n",
      " 10  image           7142 non-null    object \n",
      " 11  userid          857895 non-null  int64  \n",
      " 12  itemid          857895 non-null  int64  \n",
      " 13  rating          857895 non-null  float64\n",
      "dtypes: bool(1), float64(2), int64(3), object(8)\n",
      "memory usage: 85.9+ MB\n"
     ]
    }
   ],
   "source": [
    "df_train.info()"
   ]
  },
  {
   "cell_type": "code",
   "execution_count": 18,
   "metadata": {},
   "outputs": [
    {
     "data": {
      "text/html": [
       "<div>\n",
       "<style scoped>\n",
       "    .dataframe tbody tr th:only-of-type {\n",
       "        vertical-align: middle;\n",
       "    }\n",
       "\n",
       "    .dataframe tbody tr th {\n",
       "        vertical-align: top;\n",
       "    }\n",
       "\n",
       "    .dataframe thead th {\n",
       "        text-align: right;\n",
       "    }\n",
       "</style>\n",
       "<table border=\"1\" class=\"dataframe\">\n",
       "  <thead>\n",
       "    <tr style=\"text-align: right;\">\n",
       "      <th></th>\n",
       "      <th>overall</th>\n",
       "      <th>verified</th>\n",
       "      <th>reviewTime</th>\n",
       "      <th>asin</th>\n",
       "      <th>reviewerName</th>\n",
       "      <th>reviewText</th>\n",
       "      <th>summary</th>\n",
       "      <th>unixReviewTime</th>\n",
       "      <th>vote</th>\n",
       "      <th>style</th>\n",
       "      <th>image</th>\n",
       "      <th>userid</th>\n",
       "      <th>itemid</th>\n",
       "      <th>rating</th>\n",
       "    </tr>\n",
       "  </thead>\n",
       "  <tbody>\n",
       "    <tr>\n",
       "      <th>348718</th>\n",
       "      <td>3.0</td>\n",
       "      <td>True</td>\n",
       "      <td>11 20, 2013</td>\n",
       "      <td>B000QSS260</td>\n",
       "      <td>skwoosh_fan</td>\n",
       "      <td>Tasteless, expensive and I really don't feel a...</td>\n",
       "      <td>Tasteless, expensive......</td>\n",
       "      <td>1384905600</td>\n",
       "      <td>NaN</td>\n",
       "      <td>NaN</td>\n",
       "      <td>NaN</td>\n",
       "      <td>74391</td>\n",
       "      <td>4238</td>\n",
       "      <td>0.0</td>\n",
       "    </tr>\n",
       "  </tbody>\n",
       "</table>\n",
       "</div>"
      ],
      "text/plain": [
       "        overall  verified   reviewTime        asin reviewerName  \\\n",
       "348718      3.0      True  11 20, 2013  B000QSS260  skwoosh_fan   \n",
       "\n",
       "                                               reviewText  \\\n",
       "348718  Tasteless, expensive and I really don't feel a...   \n",
       "\n",
       "                           summary  unixReviewTime vote style image  userid  \\\n",
       "348718  Tasteless, expensive......      1384905600  NaN   NaN   NaN   74391   \n",
       "\n",
       "        itemid  rating  \n",
       "348718    4238     0.0  "
      ]
     },
     "execution_count": 18,
     "metadata": {},
     "output_type": "execute_result"
    }
   ],
   "source": [
    "df_train.sample()"
   ]
  },
  {
   "cell_type": "markdown",
   "metadata": {},
   "source": [
    "Проверим на дубликаты"
   ]
  },
  {
   "cell_type": "code",
   "execution_count": 9,
   "metadata": {},
   "outputs": [],
   "source": [
    "res = df_train.duplicated().value_counts()"
   ]
  },
  {
   "cell_type": "code",
   "execution_count": 14,
   "metadata": {},
   "outputs": [
    {
     "data": {
      "text/plain": [
       "0.28623446132596686"
      ]
     },
     "execution_count": 14,
     "metadata": {},
     "output_type": "execute_result"
    }
   ],
   "source": [
    "res[0]/(res[1]*100)"
   ]
  },
  {
   "cell_type": "markdown",
   "metadata": {},
   "source": [
    "Почти три процента дубликатов. "
   ]
  },
  {
   "cell_type": "code",
   "execution_count": 16,
   "metadata": {},
   "outputs": [
    {
     "name": "stderr",
     "output_type": "stream",
     "text": [
      "C:\\Users\\Alex\\anaconda3\\lib\\site-packages\\IPython\\core\\interactiveshell.py:3146: DtypeWarning: Columns (5) have mixed types.Specify dtype option on import or set low_memory=False.\n",
      "  interactivity=interactivity, compiler=compiler, result=result)\n"
     ]
    }
   ],
   "source": [
    "df_test = pd.read_csv(Path.cwd() / 'data' / 'test.csv')"
   ]
  },
  {
   "cell_type": "code",
   "execution_count": 20,
   "metadata": {},
   "outputs": [
    {
     "name": "stdout",
     "output_type": "stream",
     "text": [
      "<class 'pandas.core.frame.DataFrame'>\n",
      "RangeIndex: 285965 entries, 0 to 285964\n",
      "Data columns (total 11 columns):\n",
      " #   Column          Non-Null Count   Dtype \n",
      "---  ------          --------------   ----- \n",
      " 0   verified        285965 non-null  bool  \n",
      " 1   reviewTime      285965 non-null  object\n",
      " 2   asin            285965 non-null  object\n",
      " 3   reviewerName    285918 non-null  object\n",
      " 4   unixReviewTime  285965 non-null  int64 \n",
      " 5   vote            39462 non-null   object\n",
      " 6   style           147680 non-null  object\n",
      " 7   image           2368 non-null    object\n",
      " 8   userid          285965 non-null  int64 \n",
      " 9   itemid          285965 non-null  int64 \n",
      " 10  Id              285965 non-null  int64 \n",
      "dtypes: bool(1), int64(4), object(6)\n",
      "memory usage: 22.1+ MB\n"
     ]
    }
   ],
   "source": [
    "df_test.info()"
   ]
  },
  {
   "cell_type": "code",
   "execution_count": 22,
   "metadata": {},
   "outputs": [
    {
     "data": {
      "text/plain": [
       "False    285965\n",
       "dtype: int64"
      ]
     },
     "execution_count": 22,
     "metadata": {},
     "output_type": "execute_result"
    }
   ],
   "source": [
    "df_test.duplicated().value_counts()"
   ]
  },
  {
   "cell_type": "code",
   "execution_count": 24,
   "metadata": {},
   "outputs": [
    {
     "data": {
      "text/html": [
       "<div>\n",
       "<style scoped>\n",
       "    .dataframe tbody tr th:only-of-type {\n",
       "        vertical-align: middle;\n",
       "    }\n",
       "\n",
       "    .dataframe tbody tr th {\n",
       "        vertical-align: top;\n",
       "    }\n",
       "\n",
       "    .dataframe thead th {\n",
       "        text-align: right;\n",
       "    }\n",
       "</style>\n",
       "<table border=\"1\" class=\"dataframe\">\n",
       "  <thead>\n",
       "    <tr style=\"text-align: right;\">\n",
       "      <th></th>\n",
       "      <th>verified</th>\n",
       "      <th>reviewTime</th>\n",
       "      <th>asin</th>\n",
       "      <th>reviewerName</th>\n",
       "      <th>unixReviewTime</th>\n",
       "      <th>vote</th>\n",
       "      <th>style</th>\n",
       "      <th>image</th>\n",
       "      <th>userid</th>\n",
       "      <th>itemid</th>\n",
       "      <th>Id</th>\n",
       "    </tr>\n",
       "  </thead>\n",
       "  <tbody>\n",
       "    <tr>\n",
       "      <th>7226</th>\n",
       "      <td>True</td>\n",
       "      <td>04 3, 2018</td>\n",
       "      <td>B0014EOU4S</td>\n",
       "      <td>lia</td>\n",
       "      <td>1522713600</td>\n",
       "      <td>NaN</td>\n",
       "      <td>{'Size:': ' 11.5 Oz', 'Style:': ' Pack of 24'}</td>\n",
       "      <td>NaN</td>\n",
       "      <td>88227</td>\n",
       "      <td>6113</td>\n",
       "      <td>7226</td>\n",
       "    </tr>\n",
       "    <tr>\n",
       "      <th>227827</th>\n",
       "      <td>False</td>\n",
       "      <td>06 27, 2013</td>\n",
       "      <td>B0048IH8AA</td>\n",
       "      <td>Sneaky Burrito</td>\n",
       "      <td>1372291200</td>\n",
       "      <td>4</td>\n",
       "      <td>{'Flavor:': ' Enriched Vanilla'}</td>\n",
       "      <td>NaN</td>\n",
       "      <td>355</td>\n",
       "      <td>12920</td>\n",
       "      <td>227827</td>\n",
       "    </tr>\n",
       "    <tr>\n",
       "      <th>32693</th>\n",
       "      <td>False</td>\n",
       "      <td>02 20, 2018</td>\n",
       "      <td>B00FTCFSOW</td>\n",
       "      <td>birdstorebird</td>\n",
       "      <td>1519084800</td>\n",
       "      <td>NaN</td>\n",
       "      <td>NaN</td>\n",
       "      <td>NaN</td>\n",
       "      <td>49434</td>\n",
       "      <td>25836</td>\n",
       "      <td>32693</td>\n",
       "    </tr>\n",
       "    <tr>\n",
       "      <th>155252</th>\n",
       "      <td>True</td>\n",
       "      <td>01 26, 2015</td>\n",
       "      <td>B00NO5O9CI</td>\n",
       "      <td>onevoice</td>\n",
       "      <td>1422230400</td>\n",
       "      <td>NaN</td>\n",
       "      <td>NaN</td>\n",
       "      <td>NaN</td>\n",
       "      <td>34904</td>\n",
       "      <td>30777</td>\n",
       "      <td>155252</td>\n",
       "    </tr>\n",
       "    <tr>\n",
       "      <th>250324</th>\n",
       "      <td>True</td>\n",
       "      <td>05 22, 2017</td>\n",
       "      <td>B0195GVX6Y</td>\n",
       "      <td>Gladys</td>\n",
       "      <td>1495411200</td>\n",
       "      <td>NaN</td>\n",
       "      <td>{'Flavor:': ' 4 Flavor High Octane'}</td>\n",
       "      <td>NaN</td>\n",
       "      <td>64199</td>\n",
       "      <td>36250</td>\n",
       "      <td>250324</td>\n",
       "    </tr>\n",
       "  </tbody>\n",
       "</table>\n",
       "</div>"
      ],
      "text/plain": [
       "        verified   reviewTime        asin    reviewerName  unixReviewTime  \\\n",
       "7226        True   04 3, 2018  B0014EOU4S             lia      1522713600   \n",
       "227827     False  06 27, 2013  B0048IH8AA  Sneaky Burrito      1372291200   \n",
       "32693      False  02 20, 2018  B00FTCFSOW   birdstorebird      1519084800   \n",
       "155252      True  01 26, 2015  B00NO5O9CI        onevoice      1422230400   \n",
       "250324      True  05 22, 2017  B0195GVX6Y          Gladys      1495411200   \n",
       "\n",
       "       vote                                           style image  userid  \\\n",
       "7226    NaN  {'Size:': ' 11.5 Oz', 'Style:': ' Pack of 24'}   NaN   88227   \n",
       "227827    4                {'Flavor:': ' Enriched Vanilla'}   NaN     355   \n",
       "32693   NaN                                             NaN   NaN   49434   \n",
       "155252  NaN                                             NaN   NaN   34904   \n",
       "250324  NaN            {'Flavor:': ' 4 Flavor High Octane'}   NaN   64199   \n",
       "\n",
       "        itemid      Id  \n",
       "7226      6113    7226  \n",
       "227827   12920  227827  \n",
       "32693    25836   32693  \n",
       "155252   30777  155252  \n",
       "250324   36250  250324  "
      ]
     },
     "execution_count": 24,
     "metadata": {},
     "output_type": "execute_result"
    }
   ],
   "source": [
    "df_test.sample(5)"
   ]
  }
 ],
 "metadata": {
  "kernelspec": {
   "display_name": "Python 3",
   "language": "python",
   "name": "python3"
  },
  "language_info": {
   "codemirror_mode": {
    "name": "ipython",
    "version": 3
   },
   "file_extension": ".py",
   "mimetype": "text/x-python",
   "name": "python",
   "nbconvert_exporter": "python",
   "pygments_lexer": "ipython3",
   "version": "3.7.7"
  }
 },
 "nbformat": 4,
 "nbformat_minor": 4
}
