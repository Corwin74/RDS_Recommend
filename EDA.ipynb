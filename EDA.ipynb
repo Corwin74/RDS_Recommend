{
 "cells": [
  {
   "cell_type": "code",
   "execution_count": 5,
   "metadata": {},
   "outputs": [],
   "source": [
    "import pandas as pd\n",
    "import json\n",
    "from pathlib import Path"
   ]
  },
  {
   "cell_type": "code",
   "execution_count": 6,
   "metadata": {},
   "outputs": [
    {
     "name": "stderr",
     "output_type": "stream",
     "text": [
      "/home/alex/anaconda3/lib/python3.8/site-packages/IPython/core/interactiveshell.py:3071: DtypeWarning: Columns (8) have mixed types.Specify dtype option on import or set low_memory=False.\n",
      "  has_raised = await self.run_ast_nodes(code_ast.body, cell_name,\n"
     ]
    }
   ],
   "source": [
    "df_train = pd.read_csv(Path.cwd() / 'data' / 'train.csv')"
   ]
  },
  {
   "cell_type": "code",
   "execution_count": 8,
   "metadata": {},
   "outputs": [
    {
     "name": "stdout",
     "output_type": "stream",
     "text": [
      "<class 'pandas.core.frame.DataFrame'>\n",
      "RangeIndex: 857895 entries, 0 to 857894\n",
      "Data columns (total 14 columns):\n",
      " #   Column          Non-Null Count   Dtype  \n",
      "---  ------          --------------   -----  \n",
      " 0   overall         857895 non-null  float64\n",
      " 1   verified        857895 non-null  bool   \n",
      " 2   reviewTime      857895 non-null  object \n",
      " 3   asin            857895 non-null  object \n",
      " 4   reviewerName    857719 non-null  object \n",
      " 5   reviewText      857616 non-null  object \n",
      " 6   summary         857725 non-null  object \n",
      " 7   unixReviewTime  857895 non-null  int64  \n",
      " 8   vote            118740 non-null  object \n",
      " 9   style           444406 non-null  object \n",
      " 10  image           7142 non-null    object \n",
      " 11  userid          857895 non-null  int64  \n",
      " 12  itemid          857895 non-null  int64  \n",
      " 13  rating          857895 non-null  float64\n",
      "dtypes: bool(1), float64(2), int64(3), object(8)\n",
      "memory usage: 85.9+ MB\n"
     ]
    }
   ],
   "source": [
    "df_train.info()"
   ]
  },
  {
   "cell_type": "code",
   "execution_count": 18,
   "metadata": {},
   "outputs": [
    {
     "data": {
      "text/html": [
       "<div>\n",
       "<style scoped>\n",
       "    .dataframe tbody tr th:only-of-type {\n",
       "        vertical-align: middle;\n",
       "    }\n",
       "\n",
       "    .dataframe tbody tr th {\n",
       "        vertical-align: top;\n",
       "    }\n",
       "\n",
       "    .dataframe thead th {\n",
       "        text-align: right;\n",
       "    }\n",
       "</style>\n",
       "<table border=\"1\" class=\"dataframe\">\n",
       "  <thead>\n",
       "    <tr style=\"text-align: right;\">\n",
       "      <th></th>\n",
       "      <th>overall</th>\n",
       "      <th>verified</th>\n",
       "      <th>reviewTime</th>\n",
       "      <th>asin</th>\n",
       "      <th>reviewerName</th>\n",
       "      <th>reviewText</th>\n",
       "      <th>summary</th>\n",
       "      <th>unixReviewTime</th>\n",
       "      <th>vote</th>\n",
       "      <th>style</th>\n",
       "      <th>image</th>\n",
       "      <th>userid</th>\n",
       "      <th>itemid</th>\n",
       "      <th>rating</th>\n",
       "    </tr>\n",
       "  </thead>\n",
       "  <tbody>\n",
       "    <tr>\n",
       "      <th>348718</th>\n",
       "      <td>3.0</td>\n",
       "      <td>True</td>\n",
       "      <td>11 20, 2013</td>\n",
       "      <td>B000QSS260</td>\n",
       "      <td>skwoosh_fan</td>\n",
       "      <td>Tasteless, expensive and I really don't feel a...</td>\n",
       "      <td>Tasteless, expensive......</td>\n",
       "      <td>1384905600</td>\n",
       "      <td>NaN</td>\n",
       "      <td>NaN</td>\n",
       "      <td>NaN</td>\n",
       "      <td>74391</td>\n",
       "      <td>4238</td>\n",
       "      <td>0.0</td>\n",
       "    </tr>\n",
       "  </tbody>\n",
       "</table>\n",
       "</div>"
      ],
      "text/plain": [
       "        overall  verified   reviewTime        asin reviewerName  \\\n",
       "348718      3.0      True  11 20, 2013  B000QSS260  skwoosh_fan   \n",
       "\n",
       "                                               reviewText  \\\n",
       "348718  Tasteless, expensive and I really don't feel a...   \n",
       "\n",
       "                           summary  unixReviewTime vote style image  userid  \\\n",
       "348718  Tasteless, expensive......      1384905600  NaN   NaN   NaN   74391   \n",
       "\n",
       "        itemid  rating  \n",
       "348718    4238     0.0  "
      ]
     },
     "execution_count": 18,
     "metadata": {},
     "output_type": "execute_result"
    }
   ],
   "source": [
    "df_train.sample()"
   ]
  },
  {
   "cell_type": "code",
   "execution_count": 25,
   "metadata": {},
   "outputs": [
    {
     "data": {
      "text/plain": [
       "2.0      30887\n",
       "3.0      15449\n",
       "2        13616\n",
       "4.0       8934\n",
       "3         6880\n",
       "         ...  \n",
       "425.0        1\n",
       "122.0        1\n",
       "507.0        1\n",
       "120.0        1\n",
       "73           1\n",
       "Name: vote, Length: 477, dtype: int64"
      ]
     },
     "execution_count": 25,
     "metadata": {},
     "output_type": "execute_result"
    }
   ],
   "source": [
    "df_train.vote.value_counts()"
   ]
  }
 ],
 "metadata": {
  "kernelspec": {
   "display_name": "Python 3",
   "language": "python",
   "name": "python3"
  },
  "language_info": {
   "codemirror_mode": {
    "name": "ipython",
    "version": 3
   },
   "file_extension": ".py",
   "mimetype": "text/x-python",
   "name": "python",
   "nbconvert_exporter": "python",
   "pygments_lexer": "ipython3",
   "version": "3.8.3"
  }
 },
 "nbformat": 4,
 "nbformat_minor": 4
}
