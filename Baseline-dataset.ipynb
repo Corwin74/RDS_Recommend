{
 "cells": [
  {
   "cell_type": "code",
   "execution_count": 46,
   "metadata": {},
   "outputs": [],
   "source": [
    "import pandas as pd\n",
    "import json\n",
    "from sklearn.model_selection import train_test_split\n",
    "from sklearn.metrics import roc_auc_score\n",
    "from pathlib import Path\n",
    "import scipy.sparse as sparse\n",
    "from lightfm import LightFM\n",
    "from lightfm.cross_validation import random_train_test_split\n",
    "from lightfm.evaluation import precision_at_k, recall_at_k\n",
    "from lightfm.data import Dataset"
   ]
  },
  {
   "cell_type": "code",
   "execution_count": 47,
   "metadata": {},
   "outputs": [
    {
     "name": "stderr",
     "output_type": "stream",
     "text": [
      "/home/alex/anaconda3/lib/python3.8/site-packages/IPython/core/interactiveshell.py:3071: DtypeWarning: Columns (8) have mixed types.Specify dtype option on import or set low_memory=False.\n",
      "  has_raised = await self.run_ast_nodes(code_ast.body, cell_name,\n",
      "/home/alex/anaconda3/lib/python3.8/site-packages/IPython/core/interactiveshell.py:3071: DtypeWarning: Columns (5) have mixed types.Specify dtype option on import or set low_memory=False.\n",
      "  has_raised = await self.run_ast_nodes(code_ast.body, cell_name,\n"
     ]
    }
   ],
   "source": [
    "df_sub = pd.read_csv(Path.cwd() / 'data' / 'sample_submission.csv')\n",
    "df_train = pd.read_csv(Path.cwd() / 'data' / 'train.csv')\n",
    "df_test = pd.read_csv(Path.cwd() / 'data' / 'test.csv')"
   ]
  },
  {
   "cell_type": "code",
   "execution_count": 48,
   "metadata": {},
   "outputs": [],
   "source": [
    "NUM_THREADS = 8 #число потоков\n",
    "NUM_COMPONENTS = 60 #число параметров вектора \n",
    "NUM_EPOCHS = 25 #число эпох обучения"
   ]
  },
  {
   "cell_type": "code",
   "execution_count": 49,
   "metadata": {},
   "outputs": [],
   "source": [
    "df_train.drop_duplicates(inplace=True)"
   ]
  },
  {
   "cell_type": "code",
   "execution_count": 50,
   "metadata": {},
   "outputs": [],
   "source": [
    "df_train_train, df_train_test = train_test_split(df_train, random_state=32, shuffle=True)"
   ]
  },
  {
   "cell_type": "code",
   "execution_count": 51,
   "metadata": {},
   "outputs": [
    {
     "data": {
      "text/plain": [
       "Index(['overall', 'verified', 'reviewTime', 'asin', 'reviewerName',\n",
       "       'reviewText', 'summary', 'unixReviewTime', 'vote', 'style', 'image',\n",
       "       'userid', 'itemid', 'rating'],\n",
       "      dtype='object')"
      ]
     },
     "execution_count": 51,
     "metadata": {},
     "output_type": "execute_result"
    }
   ],
   "source": [
    "df_train_train.columns"
   ]
  },
  {
   "cell_type": "code",
   "execution_count": 52,
   "metadata": {},
   "outputs": [],
   "source": [
    "dataset = Dataset()"
   ]
  },
  {
   "cell_type": "code",
   "execution_count": 36,
   "metadata": {},
   "outputs": [],
   "source": [
    "#Создаем датасет с размерностью макс. юзер на макс. итем.\n",
    "dataset.fit(\n",
    "            users=range(df_train.userid.max()+1),\n",
    "            items=range(df_train.itemid.max()+1),\n",
    "            user_features=['overall:1', 'overall:2', 'overall:3', 'overall:4', 'overall:5'],\n",
    "            item_features=[]\n",
    ")"
   ]
  },
  {
   "cell_type": "code",
   "execution_count": 37,
   "metadata": {},
   "outputs": [
    {
     "data": {
      "text/plain": [
       "(127501, 41320)"
      ]
     },
     "execution_count": 37,
     "metadata": {},
     "output_type": "execute_result"
    }
   ],
   "source": [
    "dataset.model_dimensions()"
   ]
  },
  {
   "cell_type": "code",
   "execution_count": 34,
   "metadata": {},
   "outputs": [
    {
     "data": {
      "text/plain": [
       "728049      (3215, {'overall': 5.0})\n",
       "93056      (21567, {'overall': 5.0})\n",
       "175063     (29578, {'overall': 4.0})\n",
       "232990     (95970, {'overall': 3.0})\n",
       "573251     (11032, {'overall': 1.0})\n",
       "739522     (76177, {'overall': 5.0})\n",
       "182507     (88504, {'overall': 5.0})\n",
       "170523     (68500, {'overall': 5.0})\n",
       "344858    (120023, {'overall': 4.0})\n",
       "819926     (33541, {'overall': 5.0})\n",
       "496273     (44977, {'overall': 3.0})\n",
       "443253    (118067, {'overall': 5.0})\n",
       "790734     (67214, {'overall': 5.0})\n",
       "630639    (121594, {'overall': 5.0})\n",
       "320707     (96667, {'overall': 2.0})\n",
       "31031      (18000, {'overall': 5.0})\n",
       "485819     (21423, {'overall': 5.0})\n",
       "8142      (110903, {'overall': 5.0})\n",
       "362969     (94511, {'overall': 5.0})\n",
       "818566       (245, {'overall': 5.0})\n",
       "479743     (23474, {'overall': 3.0})\n",
       "255676     (17244, {'overall': 5.0})\n",
       "553956     (63182, {'overall': 5.0})\n",
       "466166     (54401, {'overall': 2.0})\n",
       "322128     (32155, {'overall': 5.0})\n",
       "293500    (110731, {'overall': 3.0})\n",
       "435428      (2840, {'overall': 1.0})\n",
       "675637     (15378, {'overall': 4.0})\n",
       "65861      (38181, {'overall': 5.0})\n",
       "758832    (101938, {'overall': 5.0})\n",
       "286769      (4387, {'overall': 5.0})\n",
       "210854     (74137, {'overall': 1.0})\n",
       "306736     (60780, {'overall': 4.0})\n",
       "504031     (88628, {'overall': 5.0})\n",
       "584450     (69244, {'overall': 1.0})\n",
       "548697     (82447, {'overall': 5.0})\n",
       "185542     (37209, {'overall': 5.0})\n",
       "149688     (79588, {'overall': 5.0})\n",
       "70812      (52111, {'overall': 5.0})\n",
       "340601     (68220, {'overall': 5.0})\n",
       "dtype: object"
      ]
     },
     "execution_count": 34,
     "metadata": {},
     "output_type": "execute_result"
    }
   ],
   "source": [
    "df_train_train[:40].apply(lambda x: (x.userid, {'overall': x.overall}), axis=1)"
   ]
  },
  {
   "cell_type": "code",
   "execution_count": 31,
   "metadata": {},
   "outputs": [
    {
     "data": {
      "text/plain": [
       "overall                                                           4\n",
       "verified                                                       True\n",
       "reviewTime                                              05 31, 2013\n",
       "asin                                                     B001HTIUDC\n",
       "reviewerName                                            GirlCopInFL\n",
       "reviewText        Tasted different but tasted great!  Even used ...\n",
       "summary                                                    LOVE IT!\n",
       "unixReviewTime                                           1369958400\n",
       "vote                                                              2\n",
       "style                    {'Size:': ' 6 Jars', 'Flavor:': ' Creamy'}\n",
       "image                                                           NaN\n",
       "userid                                                        99540\n",
       "itemid                                                         8701\n",
       "rating                                                            1\n",
       "Name: 177371, dtype: object"
      ]
     },
     "execution_count": 31,
     "metadata": {},
     "output_type": "execute_result"
    }
   ],
   "source": [
    "df_train_train.iloc[749]"
   ]
  },
  {
   "cell_type": "code",
   "execution_count": 14,
   "metadata": {},
   "outputs": [
    {
     "data": {
      "text/plain": [
       "{0: 1}"
      ]
     },
     "execution_count": 14,
     "metadata": {},
     "output_type": "execute_result"
    }
   ],
   "source": [
    "{b: x}"
   ]
  },
  {
   "cell_type": "code",
   "execution_count": null,
   "metadata": {},
   "outputs": [],
   "source": []
  },
  {
   "cell_type": "markdown",
   "metadata": {},
   "source": [
    "Создаем матрицу взаимодействий на тренировочной части"
   ]
  },
  {
   "cell_type": "code",
   "execution_count": 38,
   "metadata": {},
   "outputs": [],
   "source": [
    "(interactions, weights) = dataset.build_interactions(\n",
    "    [(x[11], x[12], x[13]) for x in df_train_train.values])"
   ]
  },
  {
   "cell_type": "code",
   "execution_count": 39,
   "metadata": {},
   "outputs": [],
   "source": [
    "user_id_map, user_feature_map, item_id_map, item_feature_map = dataset.mapping()"
   ]
  },
  {
   "cell_type": "code",
   "execution_count": 44,
   "metadata": {},
   "outputs": [
    {
     "data": {
      "text/plain": [
       "127501"
      ]
     },
     "execution_count": 44,
     "metadata": {},
     "output_type": "execute_result"
    }
   ],
   "source": [
    "len(user_feature_map)"
   ]
  },
  {
   "cell_type": "code",
   "execution_count": 45,
   "metadata": {},
   "outputs": [
    {
     "data": {
      "text/plain": [
       "127496"
      ]
     },
     "execution_count": 45,
     "metadata": {},
     "output_type": "execute_result"
    }
   ],
   "source": [
    "len(user_id_map)"
   ]
  },
  {
   "cell_type": "code",
   "execution_count": 124,
   "metadata": {},
   "outputs": [
    {
     "data": {
      "text/html": [
       "<div>\n",
       "<style scoped>\n",
       "    .dataframe tbody tr th:only-of-type {\n",
       "        vertical-align: middle;\n",
       "    }\n",
       "\n",
       "    .dataframe tbody tr th {\n",
       "        vertical-align: top;\n",
       "    }\n",
       "\n",
       "    .dataframe thead th {\n",
       "        text-align: right;\n",
       "    }\n",
       "</style>\n",
       "<table border=\"1\" class=\"dataframe\">\n",
       "  <thead>\n",
       "    <tr style=\"text-align: right;\">\n",
       "      <th></th>\n",
       "      <th>verified</th>\n",
       "      <th>reviewTime</th>\n",
       "      <th>asin</th>\n",
       "      <th>reviewerName</th>\n",
       "      <th>unixReviewTime</th>\n",
       "      <th>vote</th>\n",
       "      <th>style</th>\n",
       "      <th>image</th>\n",
       "      <th>userid</th>\n",
       "      <th>itemid</th>\n",
       "      <th>Id</th>\n",
       "    </tr>\n",
       "  </thead>\n",
       "  <tbody>\n",
       "    <tr>\n",
       "      <th>10</th>\n",
       "      <td>True</td>\n",
       "      <td>03 8, 2014</td>\n",
       "      <td>B00778B90S</td>\n",
       "      <td>Ellie Woods</td>\n",
       "      <td>1394236800</td>\n",
       "      <td>7</td>\n",
       "      <td>{'Size:': ' 20 pack'}</td>\n",
       "      <td>NaN</td>\n",
       "      <td>13457</td>\n",
       "      <td>18145</td>\n",
       "      <td>10</td>\n",
       "    </tr>\n",
       "    <tr>\n",
       "      <th>14706</th>\n",
       "      <td>True</td>\n",
       "      <td>06 5, 2014</td>\n",
       "      <td>B0001LO3FG</td>\n",
       "      <td>Ellie Woods</td>\n",
       "      <td>1401926400</td>\n",
       "      <td>NaN</td>\n",
       "      <td>{'Size:': ' 20 Count (Pack of 6)', 'Flavor:': ...</td>\n",
       "      <td>NaN</td>\n",
       "      <td>13457</td>\n",
       "      <td>379</td>\n",
       "      <td>14706</td>\n",
       "    </tr>\n",
       "    <tr>\n",
       "      <th>68091</th>\n",
       "      <td>True</td>\n",
       "      <td>06 5, 2014</td>\n",
       "      <td>B000F4DKAI</td>\n",
       "      <td>Ellie Woods</td>\n",
       "      <td>1401926400</td>\n",
       "      <td>NaN</td>\n",
       "      <td>NaN</td>\n",
       "      <td>NaN</td>\n",
       "      <td>13457</td>\n",
       "      <td>1919</td>\n",
       "      <td>68091</td>\n",
       "    </tr>\n",
       "    <tr>\n",
       "      <th>187150</th>\n",
       "      <td>True</td>\n",
       "      <td>06 5, 2014</td>\n",
       "      <td>B00XA8XWGS</td>\n",
       "      <td>Ellie Woods</td>\n",
       "      <td>1401926400</td>\n",
       "      <td>NaN</td>\n",
       "      <td>{'Size:': ' 20 Count (Pack of 6)', 'Flavor:': ...</td>\n",
       "      <td>NaN</td>\n",
       "      <td>13457</td>\n",
       "      <td>33788</td>\n",
       "      <td>187150</td>\n",
       "    </tr>\n",
       "    <tr>\n",
       "      <th>222601</th>\n",
       "      <td>True</td>\n",
       "      <td>06 12, 2013</td>\n",
       "      <td>B01HGBAFNC</td>\n",
       "      <td>Ellie Woods</td>\n",
       "      <td>1370995200</td>\n",
       "      <td>NaN</td>\n",
       "      <td>{'Size:': ' 20 Count (Pack of 8)', 'Flavor:': ...</td>\n",
       "      <td>NaN</td>\n",
       "      <td>13457</td>\n",
       "      <td>38299</td>\n",
       "      <td>222601</td>\n",
       "    </tr>\n",
       "    <tr>\n",
       "      <th>247755</th>\n",
       "      <td>True</td>\n",
       "      <td>06 12, 2013</td>\n",
       "      <td>B002HFRAF4</td>\n",
       "      <td>Ellie Woods</td>\n",
       "      <td>1370995200</td>\n",
       "      <td>NaN</td>\n",
       "      <td>{'Size:': ' Pack of 8', 'Flavor:': ' Vanilla'}</td>\n",
       "      <td>NaN</td>\n",
       "      <td>13457</td>\n",
       "      <td>10821</td>\n",
       "      <td>247755</td>\n",
       "    </tr>\n",
       "  </tbody>\n",
       "</table>\n",
       "</div>"
      ],
      "text/plain": [
       "        verified   reviewTime        asin reviewerName  unixReviewTime vote  \\\n",
       "10          True   03 8, 2014  B00778B90S  Ellie Woods      1394236800    7   \n",
       "14706       True   06 5, 2014  B0001LO3FG  Ellie Woods      1401926400  NaN   \n",
       "68091       True   06 5, 2014  B000F4DKAI  Ellie Woods      1401926400  NaN   \n",
       "187150      True   06 5, 2014  B00XA8XWGS  Ellie Woods      1401926400  NaN   \n",
       "222601      True  06 12, 2013  B01HGBAFNC  Ellie Woods      1370995200  NaN   \n",
       "247755      True  06 12, 2013  B002HFRAF4  Ellie Woods      1370995200  NaN   \n",
       "\n",
       "                                                    style image  userid  \\\n",
       "10                                  {'Size:': ' 20 pack'}   NaN   13457   \n",
       "14706   {'Size:': ' 20 Count (Pack of 6)', 'Flavor:': ...   NaN   13457   \n",
       "68091                                                 NaN   NaN   13457   \n",
       "187150  {'Size:': ' 20 Count (Pack of 6)', 'Flavor:': ...   NaN   13457   \n",
       "222601  {'Size:': ' 20 Count (Pack of 8)', 'Flavor:': ...   NaN   13457   \n",
       "247755     {'Size:': ' Pack of 8', 'Flavor:': ' Vanilla'}   NaN   13457   \n",
       "\n",
       "        itemid      Id  \n",
       "10       18145      10  \n",
       "14706      379   14706  \n",
       "68091     1919   68091  \n",
       "187150   33788  187150  \n",
       "222601   38299  222601  \n",
       "247755   10821  247755  "
      ]
     },
     "execution_count": 124,
     "metadata": {},
     "output_type": "execute_result"
    }
   ],
   "source": [
    "df_test[df_test.userid == 13457]"
   ]
  },
  {
   "cell_type": "code",
   "execution_count": 109,
   "metadata": {},
   "outputs": [],
   "source": [
    "model = LightFM(learning_rate=0.1, loss='logistic')"
   ]
  },
  {
   "cell_type": "code",
   "execution_count": 110,
   "metadata": {},
   "outputs": [
    {
     "data": {
      "text/plain": [
       "<lightfm.lightfm.LightFM at 0x7fe08fbaa580>"
      ]
     },
     "execution_count": 110,
     "metadata": {},
     "output_type": "execute_result"
    }
   ],
   "source": [
    "model.fit(interactions, # spase matrix representing whether user u and item i interacted\n",
    "      sample_weight= weights, # spase matrix representing how much value to give to user u and item i inetraction: i.e ratings\n",
    "      epochs=10, num_threads=NUM_THREADS)"
   ]
  },
  {
   "cell_type": "code",
   "execution_count": 27,
   "metadata": {},
   "outputs": [
    {
     "name": "stdout",
     "output_type": "stream",
     "text": [
      "Hybrid training set AUC: 0.92077446\n"
     ]
    }
   ],
   "source": [
    "from lightfm.evaluation import auc_score\n",
    "train_auc = auc_score(model,\n",
    "                      interactions\n",
    "                     ).mean()\n",
    "print('Hybrid training set AUC: %s' % train_auc)"
   ]
  },
  {
   "cell_type": "code",
   "execution_count": 39,
   "metadata": {},
   "outputs": [],
   "source": [
    "ratings_coo = sparse.coo_matrix((train_data['rating'].astype(int),\n",
    "                                 (train_data['userid'],\n",
    "                                  train_data['itemid'])))"
   ]
  },
  {
   "cell_type": "code",
   "execution_count": 40,
   "metadata": {},
   "outputs": [],
   "source": [
    "model = LightFM(learning_rate=0.1, loss='logistic',\n",
    "                no_components=NUM_COMPONENTS)\n",
    "model = model.fit(ratings_coo, epochs=NUM_EPOCHS, \n",
    "                  num_threads=NUM_THREADS)"
   ]
  },
  {
   "cell_type": "code",
   "execution_count": 34,
   "metadata": {},
   "outputs": [
    {
     "data": {
      "text/plain": [
       "285965"
      ]
     },
     "execution_count": 34,
     "metadata": {},
     "output_type": "execute_result"
    }
   ],
   "source": [
    "len(df_sub)"
   ]
  },
  {
   "cell_type": "code",
   "execution_count": 35,
   "metadata": {},
   "outputs": [
    {
     "data": {
      "text/plain": [
       "285965"
      ]
     },
     "execution_count": 35,
     "metadata": {},
     "output_type": "execute_result"
    }
   ],
   "source": [
    "len(df_test)"
   ]
  },
  {
   "cell_type": "code",
   "execution_count": 121,
   "metadata": {},
   "outputs": [],
   "source": [
    "def cold_start(row, user_id_map, item_id_map, model):\n",
    "    if row.userid in user_id_map and row.itemid in item_id_map:\n",
    "        return model.predict(user_id_map[row.userid], [item_id_map[row.itemid]])[0]\n",
    "    else:\n",
    "        print(row.userid, row.itemid)\n",
    "        return 0"
   ]
  },
  {
   "cell_type": "code",
   "execution_count": 112,
   "metadata": {},
   "outputs": [
    {
     "data": {
      "text/plain": [
       "array([1.04392183])"
      ]
     },
     "execution_count": 112,
     "metadata": {},
     "output_type": "execute_result"
    }
   ],
   "source": [
    "model.predict(user_id_map[50442], [item_id_map[15530]])"
   ]
  },
  {
   "cell_type": "code",
   "execution_count": 122,
   "metadata": {},
   "outputs": [
    {
     "name": "stdout",
     "output_type": "stream",
     "text": [
      "13457 18145\n",
      "85892 37102\n",
      "56698 28650\n",
      "124621 33986\n",
      "110673 12113\n",
      "37076 13307\n"
     ]
    }
   ],
   "source": [
    "pred_set = df_test[0:1000].apply(cold_start, axis=1, user_id_map=user_id_map, \n",
    "                    item_id_map=item_id_map, model=model)"
   ]
  },
  {
   "cell_type": "code",
   "execution_count": 44,
   "metadata": {},
   "outputs": [],
   "source": [
    "preds_sub = model.predict(df_test.userid.values,\n",
    "                      df_test.itemid.values)"
   ]
  },
  {
   "cell_type": "code",
   "execution_count": 114,
   "metadata": {},
   "outputs": [
    {
     "data": {
      "text/plain": [
       "(-0.007606500294059515, 9.58047103881836)"
      ]
     },
     "execution_count": 114,
     "metadata": {},
     "output_type": "execute_result"
    }
   ],
   "source": [
    "pred_set.min(), pred_set.max()"
   ]
  },
  {
   "cell_type": "code",
   "execution_count": 115,
   "metadata": {},
   "outputs": [],
   "source": [
    "normalized_preds = (pred_set - pred_set.min())/(pred_set - pred_set.min()).max()"
   ]
  },
  {
   "cell_type": "code",
   "execution_count": 116,
   "metadata": {},
   "outputs": [
    {
     "data": {
      "text/plain": [
       "(0.0, 1.0)"
      ]
     },
     "execution_count": 116,
     "metadata": {},
     "output_type": "execute_result"
    }
   ],
   "source": [
    "normalized_preds.min(), normalized_preds.max()"
   ]
  },
  {
   "cell_type": "code",
   "execution_count": 117,
   "metadata": {},
   "outputs": [],
   "source": [
    "df_sub['rating']= normalized_preds"
   ]
  },
  {
   "cell_type": "code",
   "execution_count": 118,
   "metadata": {},
   "outputs": [],
   "source": [
    "df_sub.to_csv('submission1_log.csv', index=False)"
   ]
  }
 ],
 "metadata": {
  "kernelspec": {
   "display_name": "Python 3",
   "language": "python",
   "name": "python3"
  },
  "language_info": {
   "codemirror_mode": {
    "name": "ipython",
    "version": 3
   },
   "file_extension": ".py",
   "mimetype": "text/x-python",
   "name": "python",
   "nbconvert_exporter": "python",
   "pygments_lexer": "ipython3",
   "version": "3.8.3"
  }
 },
 "nbformat": 4,
 "nbformat_minor": 4
}
